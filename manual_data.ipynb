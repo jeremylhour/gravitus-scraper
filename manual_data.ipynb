{
 "cells": [
  {
   "cell_type": "markdown",
   "id": "noble-assumption",
   "metadata": {},
   "source": [
    "# Processing training logs\n",
    "\n",
    "Attempt to automatically process my own training logs\n",
    "\n",
    "Date : 30 May 2022\n",
    "\n",
    "@author: jeremylhour"
   ]
  },
  {
   "cell_type": "code",
   "execution_count": 1,
   "id": "cordless-trailer",
   "metadata": {},
   "outputs": [],
   "source": [
    "import yaml\n",
    "import json\n",
    "from src.process_training_logs import process_log_data, break_raw_data, process_one_workout"
   ]
  },
  {
   "cell_type": "code",
   "execution_count": 2,
   "id": "sized-onion",
   "metadata": {},
   "outputs": [],
   "source": [
    "### GET EXERCISE NAMES FROM GRAVITUS\n",
    "CONFIG_FILE = 'config/gravitus.yaml'\n",
    "\n",
    "with open(CONFIG_FILE, 'r') as stream:\n",
    "    config = yaml.safe_load(stream)\n",
    "\n",
    "DATA_PATH = config.get('OUT_FOLDER')+\"/\"+str(config.get('USER_ID'))+\"/parsed_data.json\"\n",
    "\n",
    "with open(DATA_PATH, 'rb') as f:\n",
    "    workoutInfos = json.load(f)"
   ]
  },
  {
   "cell_type": "code",
   "execution_count": 3,
   "id": "willing-warrant",
   "metadata": {},
   "outputs": [],
   "source": [
    "# Get all exercise names\n",
    "exercise_freq_gravitus = {}\n",
    "\n",
    "for workout in workoutInfos:\n",
    "    if workout.get('work') is not None:\n",
    "        for exercise in workout.get('work'):\n",
    "            if exercise in exercise_freq_gravitus:\n",
    "                exercise_freq_gravitus[exercise] += 1\n",
    "            else:\n",
    "                exercise_freq_gravitus[exercise] = 1"
   ]
  },
  {
   "cell_type": "code",
   "execution_count": 4,
   "id": "considerable-interval",
   "metadata": {},
   "outputs": [
    {
     "data": {
      "text/plain": [
       "['2\" Deficit Deadlift',\n",
       " '2ct Pause Bench Press',\n",
       " '2ct Paused Deadlift @ 1 Inch Off Floor',\n",
       " '2ct Paused Incline Bench Press',\n",
       " '3.0.3 Tempo Squat',\n",
       " '3ct Paused Bench Press',\n",
       " '5-3-0 Tempo Squat',\n",
       " 'Ab Rollout',\n",
       " 'Assault Bike',\n",
       " 'Barbell Curl',\n",
       " 'Barbell Row',\n",
       " 'Basketball',\n",
       " 'Beltless Conventional Deadlift',\n",
       " 'Beltless Press',\n",
       " 'Beltless Squat',\n",
       " 'Bench Press',\n",
       " 'Bench Press With Football Bar',\n",
       " 'Bike',\n",
       " 'Bodyweight Squat',\n",
       " 'Bulgarian Split Squat',\n",
       " 'Chest Press Machine',\n",
       " 'Clean',\n",
       " 'Close Grip Floor Press',\n",
       " 'Close-Grip Bench Press',\n",
       " 'Close-Grip Incline Bench Press',\n",
       " 'Deadlift',\n",
       " 'Dumbbell Curl',\n",
       " 'EZ Bar Curl',\n",
       " 'Face Pull',\n",
       " \"Farmer's Walk\",\n",
       " 'Floor Press',\n",
       " 'Front Squat',\n",
       " 'Goblet Squat',\n",
       " 'Hammer Curl',\n",
       " 'Hang Power Clean',\n",
       " 'High Bar Back Squat',\n",
       " 'Hike',\n",
       " 'Incline Bench Press',\n",
       " 'Incline Dumbbell Curl',\n",
       " 'Kettlebell Overhead Press',\n",
       " 'Kettlebell Swing',\n",
       " 'Lat Pulldown',\n",
       " 'Leg Press',\n",
       " 'Overhead Press',\n",
       " 'Paused Bench Press',\n",
       " 'Paused Squats',\n",
       " 'Pin Squat',\n",
       " 'Plank',\n",
       " 'Power Clean',\n",
       " 'Preacher Curl',\n",
       " 'Pull-Up',\n",
       " 'Push-Up',\n",
       " 'Pushdown',\n",
       " 'Rack Pull',\n",
       " 'Romanian Deadlift',\n",
       " 'Row Machine',\n",
       " 'Running',\n",
       " 'Sandbag Clean',\n",
       " 'Skull Crusher',\n",
       " 'Slingshot Bench Press',\n",
       " 'Squat',\n",
       " 'Ssb Squat',\n",
       " 'Stiff Leg Deadlift',\n",
       " 'Tempo Squats',\n",
       " 'Wide-Grip Bench Press']"
      ]
     },
     "execution_count": 4,
     "metadata": {},
     "output_type": "execute_result"
    }
   ],
   "source": [
    "sorted(list(exercise_freq_gravitus.keys()))"
   ]
  },
  {
   "cell_type": "code",
   "execution_count": 5,
   "id": "awful-crawford",
   "metadata": {},
   "outputs": [
    {
     "name": "stderr",
     "output_type": "stream",
     "text": [
      "/Users/jeremylhour/Documents/code/gravitus-scraper/src/process_training_logs.py:106: FutureWarning: Possible nested set at position 1\n",
      "  for item in re.findall(load_re+reps_re+rpe_re+repeated_re, line):\n",
      "/Users/jeremylhour/Documents/code/gravitus-scraper/src/process_training_logs.py:106: FutureWarning: Possible nested set at position 44\n",
      "  for item in re.findall(load_re+reps_re+rpe_re+repeated_re, line):\n",
      "/Users/jeremylhour/Documents/code/gravitus-scraper/src/process_training_logs.py:108: FutureWarning: Possible nested set at position 1\n",
      "  rest_of_the_item = re.findall(load_re+reps_re+rpe_re, item)[0]\n",
      "/Users/jeremylhour/Documents/code/gravitus-scraper/src/process_training_logs.py:108: FutureWarning: Possible nested set at position 44\n",
      "  rest_of_the_item = re.findall(load_re+reps_re+rpe_re, item)[0]\n"
     ]
    }
   ],
   "source": [
    "parsedWorkouts = []\n",
    "\n",
    "for year in [\"2122\", \"2223\"]:\n",
    "    with open(f\"data/manual_data/training_log_{year}.txt\", \"r\") as f:\n",
    "        raw_data = ' '.join([line for line in f.readlines()])    \n",
    "    parsedWorkouts += process_log_data(raw_data)"
   ]
  },
  {
   "cell_type": "code",
   "execution_count": 6,
   "id": "latest-cabin",
   "metadata": {},
   "outputs": [],
   "source": [
    "# Get all exercise names\n",
    "exercise_freq = {}\n",
    "\n",
    "for workout in parsedWorkouts:\n",
    "    if workout.get('work') is not None:\n",
    "        for exercise in workout.get('work'):\n",
    "            if exercise in exercise_freq:\n",
    "                exercise_freq[exercise] += 1\n",
    "            else:\n",
    "                exercise_freq[exercise] = 1"
   ]
  },
  {
   "cell_type": "code",
   "execution_count": 7,
   "id": "aquatic-ozone",
   "metadata": {},
   "outputs": [
    {
     "data": {
      "text/plain": [
       "['',\n",
       " '(Too Sick To Do It)',\n",
       " '2\" Deficit Deadlift',\n",
       " '2ct Pause Bench Press',\n",
       " '2ct Paused Deadlift @ 1 Inch Off Floor',\n",
       " '2ct Paused Incline Bench Press',\n",
       " '3.0.3 Tempo Squat',\n",
       " '3ct Paused Bench Press',\n",
       " '6 Km',\n",
       " \"Back From The Wedding, I'M Dead\",\n",
       " 'Barbell Curl',\n",
       " 'Barbell Row',\n",
       " 'Barbell Row (Myo Reps)',\n",
       " 'Barbell row',\n",
       " 'Beltless Conventional Deadlift',\n",
       " 'Beltless Press',\n",
       " 'Beltless Squat',\n",
       " 'Bench Press',\n",
       " 'Bike',\n",
       " 'Close-Grip Bench Press',\n",
       " 'Close-Grip Bench Press (Myo Reps)',\n",
       " 'Close-Grip Floor Press',\n",
       " 'Close-Grip Incline Bench Press',\n",
       " 'Deadlift',\n",
       " 'High-Bar Squat',\n",
       " 'Hiit (Rowing Machine)',\n",
       " 'Incline Bench Press',\n",
       " 'Overhead Press',\n",
       " 'Paused Bench Press',\n",
       " 'Paused Squats',\n",
       " 'Pin Squat',\n",
       " 'Plank',\n",
       " 'Preacher Curl',\n",
       " 'Pull-Up',\n",
       " 'Pull-Ups',\n",
       " 'Pushdown',\n",
       " 'Pushdown (Rope)',\n",
       " 'Pushdown (With The Rope)',\n",
       " 'Rack Pull',\n",
       " 'Romanian Deadlift',\n",
       " 'Rower (Liss)',\n",
       " 'Rowing Machine (Hiit)',\n",
       " 'Slingshot Bench Press',\n",
       " 'Slingshot Bench Press Press',\n",
       " 'Squat',\n",
       " 'Stiff-Leg Deadlift',\n",
       " 'Wide-Grip Bench Press']"
      ]
     },
     "execution_count": 7,
     "metadata": {},
     "output_type": "execute_result"
    }
   ],
   "source": [
    "sorted(list(exercise_freq.keys()))"
   ]
  },
  {
   "cell_type": "code",
   "execution_count": 8,
   "id": "accurate-jacksonville",
   "metadata": {},
   "outputs": [
    {
     "name": "stdout",
     "output_type": "stream",
     "text": [
      "220kg x 1 @7.5\n",
      "[]\n",
      "1\n",
      "205 kg x 5 @9\n",
      "[]\n",
      "1\n",
      "190 kg x 5 @8 x 3\n",
      "['x 3']\n",
      "3\n"
     ]
    }
   ],
   "source": [
    "import re\n",
    "\n",
    "load_re = r\"[[0-9]*[,]?]?[0-9]+\\s?k?g?\\s?\" \n",
    "reps_re = r\"x\\s[0-9]+\\s?\"\n",
    "rpe_re = r\"@?[[0-9]*[,\\.]?]?[0-9]+?\\s?\"\n",
    "repeated_re = r\"x?\\s?[0-9]*\"\n",
    "repeated_re_at_the_end = r\"x\\s?[0-9]+.*(x\\s?[0-9]+$)\"\n",
    "\n",
    "line= \"Deadlift : 220kg x 1 @7.5, 205 kg x 5 @9, 190 kg x 5 @8 x 3\"\n",
    "\n",
    "exercise = line.split(\":\")[0].strip()\n",
    "\n",
    "\n",
    "for item in re.findall(load_re+reps_re+rpe_re+repeated_re, line):\n",
    "    print(item)\n",
    "    # Main expression\n",
    "    rest_of_the_item = re.findall(load_re+reps_re+rpe_re, item)[0]\n",
    "    parsed_item = rest_of_the_item.replace('kg', '').replace(',', '.').replace(' ', '').replace('@', ' @')\n",
    "\n",
    "    # repeated if any\n",
    "    repeated = re.findall(repeated_re_at_the_end, item)\n",
    "    print(repeated)\n",
    "\n",
    "    if repeated:\n",
    "        n_ = int(re.findall(r\"[0-9]\",repeated[0])[0])\n",
    "    else:\n",
    "        n_ = 1\n",
    "        \n",
    "    print(n_)"
   ]
  },
  {
   "cell_type": "code",
   "execution_count": 5,
   "id": "liked-virus",
   "metadata": {},
   "outputs": [
    {
     "data": {
      "text/plain": [
       "3"
      ]
     },
     "execution_count": 5,
     "metadata": {},
     "output_type": "execute_result"
    }
   ],
   "source": [
    "n_"
   ]
  },
  {
   "cell_type": "code",
   "execution_count": 6,
   "id": "removable-neutral",
   "metadata": {},
   "outputs": [
    {
     "data": {
      "text/plain": [
       "[]"
      ]
     },
     "execution_count": 6,
     "metadata": {},
     "output_type": "execute_result"
    }
   ],
   "source": [
    "aa"
   ]
  },
  {
   "cell_type": "code",
   "execution_count": null,
   "id": "emotional-girlfriend",
   "metadata": {},
   "outputs": [],
   "source": []
  }
 ],
 "metadata": {
  "kernelspec": {
   "display_name": "Python 3",
   "language": "python",
   "name": "python3"
  },
  "language_info": {
   "codemirror_mode": {
    "name": "ipython",
    "version": 3
   },
   "file_extension": ".py",
   "mimetype": "text/x-python",
   "name": "python",
   "nbconvert_exporter": "python",
   "pygments_lexer": "ipython3",
   "version": "3.7.9"
  }
 },
 "nbformat": 4,
 "nbformat_minor": 5
}
